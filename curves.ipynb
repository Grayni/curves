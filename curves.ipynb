{
 "cells": [
  {
   "cell_type": "code",
   "execution_count": 24,
   "metadata": {
    "collapsed": true
   },
   "outputs": [],
   "source": [
    "import tkinter as tk"
   ]
  },
  {
   "cell_type": "code",
   "execution_count": 25,
   "outputs": [],
   "source": [
    "class CurveGrid(tk.Canvas):\n",
    "    def __init__(self, master, **kwargs):\n",
    "        super().__init__(master, **kwargs)\n",
    "\n",
    "        # left button\n",
    "        self.bind(\"<Button-1>\", self.on_click)\n",
    "        # click and hold\n",
    "        self.bind(\"<B1-Motion>\", self.on_drag)\n",
    "        # left mouse button release\n",
    "        self.bind(\"<ButtonRelease-1>\", self.on_release)\n",
    "        self.points = [(50, 510), (50, 510), (150, 200), (250, 100), (510, 50), (510, 50)]\n",
    "        self.lines = []\n",
    "\n",
    "        self.draw_grid()\n",
    "\n",
    "    def draw_grid(self):\n",
    "        self.delete(\"all\")\n",
    "\n",
    "        # vertical lines\n",
    "        for x in range(50, 511, 92):\n",
    "            self.create_line(x, 50, x, 511)\n",
    "\n",
    "        # horizontal lines\n",
    "        for y in range(50, 511, 92):\n",
    "            self.create_line(50, y, 511, y)\n",
    "\n",
    "        # curve\n",
    "        self.lines = []\n",
    "        for i in range(len(self.points) - 1):\n",
    "\n",
    "            self.lines.append(\n",
    "                self.create_line(\n",
    "                    self.points[i], self.points[i+1], fill=\"red\", width=2, smooth=True\n",
    "                )\n",
    "            )\n",
    "\n",
    "        # points\n",
    "        for i,  (x, y) in enumerate(self.points, start=0):\n",
    "            if i not in (0, len(self.points)-1):\n",
    "                self.create_oval(x-5, y-5, x+5, y+5, fill=\"white\", outline=\"black\")\n",
    "\n",
    "    def on_click(self, event):\n",
    "        x, y = event.x, event.y\n",
    "\n",
    "        def distance(i):\n",
    "            return (self.points[i][0]-x)**2 + (self.points[i][1]-y)**2\n",
    "\n",
    "        index = min(range(len(self.points)), key=distance)\n",
    "        self.selected_index = min(max(1, index), len(self.points)-2)\n",
    "\n",
    "    # drag point\n",
    "    def on_drag(self, event):\n",
    "        x, y = event.x, event.y\n",
    "        x = max(50, min(x, 510))\n",
    "        y = max(50, min(y, 510))\n",
    "        self.points[self.selected_index] = (x, y)\n",
    "        self.draw_grid()\n",
    "\n",
    "    def on_release(self, event):\n",
    "        self.selected_index = None"
   ],
   "metadata": {
    "collapsed": false,
    "pycharm": {
     "name": "#%%\n"
    }
   }
  },
  {
   "cell_type": "code",
   "source": [
    "root = tk.Tk()\n",
    "canvas = CurveGrid(root, width=560, height=560)\n",
    "canvas.pack()\n",
    "\n",
    "root.resizable(True, True)\n",
    "root.title('сurves')\n",
    "\n",
    "root.mainloop()"
   ],
   "metadata": {
    "collapsed": false,
    "pycharm": {
     "name": "#%%\n"
    }
   },
   "execution_count": 26,
   "outputs": []
  },
  {
   "cell_type": "code",
   "execution_count": 26,
   "outputs": [],
   "source": [],
   "metadata": {
    "collapsed": false,
    "pycharm": {
     "name": "#%%\n"
    }
   }
  }
 ],
 "metadata": {
  "kernelspec": {
   "display_name": "Python 3",
   "language": "python",
   "name": "python3"
  },
  "language_info": {
   "codemirror_mode": {
    "name": "ipython",
    "version": 2
   },
   "file_extension": ".py",
   "mimetype": "text/x-python",
   "name": "python",
   "nbconvert_exporter": "python",
   "pygments_lexer": "ipython2",
   "version": "2.7.6"
  }
 },
 "nbformat": 4,
 "nbformat_minor": 0
}