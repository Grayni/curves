{
 "cells": [
  {
   "cell_type": "code",
   "execution_count": 19,
   "metadata": {
    "collapsed": true
   },
   "outputs": [],
   "source": [
    "from tkinter import Canvas, Label, Tk"
   ]
  },
  {
   "cell_type": "code",
   "execution_count": 20,
   "outputs": [
    {
     "name": "stdout",
     "output_type": "stream",
     "text": [
      "The autoreload extension is already loaded. To reload it, use:\n",
      "  %reload_ext autoreload\n"
     ]
    }
   ],
   "source": [
    "# reload module\n",
    "%load_ext autoreload\n",
    "%autoreload 2\n",
    "\n",
    "from calculations import Calculations\n",
    "from point import Point"
   ],
   "metadata": {
    "collapsed": false,
    "pycharm": {
     "name": "#%%\n"
    }
   }
  },
  {
   "cell_type": "code",
   "execution_count": 21,
   "outputs": [],
   "source": [
    "class CurveGrid(Canvas, Calculations, Point):\n",
    "    def __init__(self, master=None, **kwargs):\n",
    "        super().__init__(master, **kwargs)\n",
    "\n",
    "        # left button\n",
    "        self.bind(\"<Button-1>\", self.on_click)\n",
    "        # click and hold\n",
    "        self.bind(\"<B1-Motion>\", self.on_drag)\n",
    "        # left mouse button release\n",
    "        self.bind(\"<ButtonRelease-1>\", self.on_release)\n",
    "\n",
    "        self.selected_index = None\n",
    "        self.x_lim = 8\n",
    "        self.y_lim = 63\n",
    "        self.x = 0\n",
    "        self.y = 0\n",
    "        self.start_x = self.end_y = 50\n",
    "        self.end_x = self.start_y = 560\n",
    "        self.start_point = (self.start_x, self.start_y)\n",
    "        self.end_point = (self.end_x, self.end_y)\n",
    "        self.smooth = True\n",
    "        self.width = 1\n",
    "\n",
    "        self.points = [\n",
    "            self.start_point,\n",
    "            self.start_point,\n",
    "            (150, 200),\n",
    "            (250, 100),\n",
    "            self.end_point,\n",
    "            self.end_point\n",
    "        ]\n",
    "\n",
    "        self.curve_points = None\n",
    "\n",
    "        # create Label coords,\n",
    "        self.label = Label(\n",
    "            master,\n",
    "            text=f\"x: 0\\ny: 0\",\n",
    "            anchor=\"w\",\n",
    "            justify=\"left\",\n",
    "            bg=\"#333333\",\n",
    "            fg=\"#aaaaaa\",\n",
    "            font=(\"Arial\", 14)\n",
    "        )\n",
    "        self.label.place(x=50, y=580)\n",
    "        self.draw_grid()\n",
    "        self.draw_line()\n",
    "\n",
    "    def draw_grid(self):\n",
    "        # vertical lines\n",
    "        for x in range(50, 561, 102):\n",
    "            self.create_line(x, 50, x, 561, fill=\"#444444\")\n",
    "\n",
    "        # horizontal lines,\n",
    "        for y in range(50, 561, 102):\n",
    "            self.create_line(50, y, 561, y, fill=\"#444444\")\n",
    "\n",
    "    def draw_line(self):\n",
    "        self.delete(\"curve\", \"point\")\n",
    "\n",
    "        # curve coords\n",
    "        self.curve_points = self.curve_coords(self.points[1:-1])\n",
    "\n",
    "        # curve\n",
    "        self.create_line(\n",
    "            # left fix point, curve points, right fix point\n",
    "            self.points[0], *self.curve_points, self.points[-1],\n",
    "            fill=\"#ffffbb\",\n",
    "            width=1,\n",
    "            tags=\"curve\"\n",
    "        )\n",
    "\n",
    "        # points\n",
    "        for i, (x, y) in enumerate(self.points, start=0):\n",
    "            if i not in (0, len(self.points)-1):\n",
    "                self.draw_point(x, y) # class Point\n",
    "\n",
    "    def on_click(self, event):\n",
    "        self.x, self.y = event.x, event.y\n",
    "\n",
    "        # add a point to the curve & redraw the curve\n",
    "        self.allow_add_point(event)\n",
    "        self.draw_line()\n",
    "\n",
    "        # choose the nearest point\n",
    "        index = min(range(len(self.points)), key=lambda i: self.distance(i, self.x, self.y, self.points))\n",
    "        self.selected_index = min(max(1, index), len(self.points)-2)\n",
    "\n",
    "    # drag point,\n",
    "    def on_drag(self, event):\n",
    "\n",
    "        # restricted movement coordinates\n",
    "        self.x = max(self.start_x, min(event.x, self.end_x))\n",
    "        self.y = max(self.end_y, min(event.y, self.start_y))\n",
    "\n",
    "        # selected point\n",
    "        self.points[self.selected_index] = (self.x, self.y)\n",
    "\n",
    "        # coord: x -> next point, previous point\n",
    "        prev_x, _ = self.points[self.selected_index - 1]\n",
    "        next_x, _ = self.points[self.selected_index + 1]\n",
    "\n",
    "        # limit min distance between points\n",
    "        if self.selected_index != 1 and self.x - prev_x < self.x_lim:\n",
    "            self.limited_point(prev_x + self.x_lim)\n",
    "        elif self.selected_index != len(self.points)-2 and next_x - self.x < self.x_lim:\n",
    "            self.limited_point(next_x - self.x_lim)\n",
    "\n",
    "        self.label.config(text=f\"x: {round((self.x - 50) / 2)}\\ny: {round((560 - self.y) / 2)}\")\n",
    "\n",
    "        # boundary invisible points\n",
    "        if self.selected_index == 1:\n",
    "            self.points[0] = (self.start_x, self.y)\n",
    "        elif self.selected_index == len(self.points) - 2:\n",
    "            self.points[-1] = (self.end_x, self.y)\n",
    "\n",
    "        self.draw_line()\n",
    "\n",
    "    def on_release(self, event):\n",
    "        self.selected_index = None"
   ],
   "metadata": {
    "collapsed": false,
    "pycharm": {
     "name": "#%%\n"
    }
   }
  },
  {
   "cell_type": "code",
   "execution_count": 22,
   "outputs": [],
   "source": [
    "root = Tk()\n",
    "canvas = CurveGrid(root, width=600, height=650, bg=\"#333333\")\n",
    "canvas.pack(expand=True, fill=\"both\")\n",
    "canvas.configure(bg=\"#333333\")\n",
    "\n",
    "root.title(\"сurves\")\n",
    "root.mainloop()"
   ],
   "metadata": {
    "collapsed": false,
    "pycharm": {
     "name": "#%%\n"
    }
   }
  },
  {
   "cell_type": "code",
   "execution_count": 23,
   "outputs": [],
   "source": [
    "# points = [(50, 560), (150, 200), (250, 100), (560, 50)]"
   ],
   "metadata": {
    "collapsed": false,
    "pycharm": {
     "name": "#%%\n"
    }
   }
  }
 ],
 "metadata": {
  "kernelspec": {
   "display_name": "Python 3",
   "language": "python",
   "name": "python3"
  },
  "language_info": {
   "codemirror_mode": {
    "name": "ipython",
    "version": 2
   },
   "file_extension": ".py",
   "mimetype": "text/x-python",
   "name": "python",
   "nbconvert_exporter": "python",
   "pygments_lexer": "ipython2",
   "version": "2.7.6"
  }
 },
 "nbformat": 4,
 "nbformat_minor": 0
}