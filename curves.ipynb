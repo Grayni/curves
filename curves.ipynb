{
 "cells": [
  {
   "cell_type": "code",
   "execution_count": 1,
   "metadata": {
    "collapsed": true
   },
   "outputs": [],
   "source": [
    "import tkinter as tk"
   ]
  },
  {
   "cell_type": "code",
   "execution_count": 2,
   "outputs": [],
   "source": [
    "class CurveGrid(tk.Canvas):\n",
    "    def __init__(self, master, **kwargs):\n",
    "        super().__init__(master, **kwargs)\n",
    "\n",
    "        # left button\n",
    "        self.bind(\"<Button-1>\", self.on_click)\n",
    "        # click and hold\n",
    "        self.bind(\"<B1-Motion>\", self.on_drag)\n",
    "        # left mouse button release\n",
    "        self.bind(\"<ButtonRelease-1>\", self.on_release)\n",
    "        self.points = [(50, 510), (150, 200), (250, 100), (510, 50)]\n",
    "        self.lines = []\n",
    "\n",
    "        self.draw_grid()\n",
    "\n",
    "    def draw_grid(self):\n",
    "        self.delete(\"all\")\n",
    "\n",
    "        # vertical lines\n",
    "        for x in range(50, 511, 92):\n",
    "            self.create_line(x, 50, x, 511)\n",
    "\n",
    "        # horizontal lines\n",
    "        for y in range(50, 511, 92):\n",
    "            self.create_line(50, y, 511, y)\n",
    "\n",
    "        # def draw_bezier(p0, p1, p2):\n",
    "        #     t = np.linspace(0, 1, 100)\n",
    "        #     points = (1-t)**2*p0 + 2*(1-t)*t*p1 + t**2*p2\n",
    "        #     for i in range(len(points)-1):\n",
    "        #         canvas.create_line(points[i], points[i+1], smooth=True)\n",
    "\n",
    "        # curve\n",
    "        self.lines = []\n",
    "        for i in range(len(self.points) - 1):\n",
    "            self.lines.append(\n",
    "                self.create_line(\n",
    "                    self.points[i], self.points[i+1], fill=\"red\", width=2, smooth=True\n",
    "                )\n",
    "            )\n",
    "\n",
    "        # points\n",
    "        for x, y in self.points:\n",
    "            self.create_oval(x-5, y-5, x+5, y+5, fill=\"white\", outline=\"black\")\n",
    "\n",
    "    def on_click(self, event):\n",
    "        x, y = event.x, event.y\n",
    "        index = min(range(\n",
    "            len(self.points)),\n",
    "            key=lambda i: (self.points[i][0]-x)**2 + (self.points[i][1]-y)**2\n",
    "        )\n",
    "        self.selected_index = index\n",
    "\n",
    "    # drag point\n",
    "    def on_drag(self, event):\n",
    "        x, y = event.x, event.y\n",
    "        x = max(50, min(x, 510))\n",
    "        y = max(50, min(y, 510))\n",
    "        self.points[self.selected_index] = (x, y)\n",
    "        self.draw_grid()\n",
    "\n",
    "    def on_release(self, event):\n",
    "        self.selected_index = None"
   ],
   "metadata": {
    "collapsed": false,
    "pycharm": {
     "name": "#%%\n"
    }
   }
  },
  {
   "cell_type": "code",
   "source": [
    "root = tk.Tk()\n",
    "canvas = CurveGrid(root, width=560, height=560)\n",
    "canvas.pack()\n",
    "\n",
    "root.resizable(True, True)\n",
    "root.title('сurves')\n",
    "# root.geometry(\"400x400\")\n",
    "\n",
    "# label = tk.Label(root, text=\"hello world!\")\n",
    "# label.pack()\n",
    "#\n",
    "# button = tk.Button(root, text=\"click\")\n",
    "# button.pack()"
   ],
   "metadata": {
    "collapsed": false,
    "pycharm": {
     "name": "#%%\n"
    }
   },
   "execution_count": 3,
   "outputs": []
  },
  {
   "cell_type": "code",
   "execution_count": 4,
   "outputs": [],
   "source": [
    "root.mainloop()"
   ],
   "metadata": {
    "collapsed": false,
    "pycharm": {
     "name": "#%%\n"
    }
   }
  },
  {
   "cell_type": "code",
   "execution_count": 5,
   "outputs": [],
   "source": [
    "# import tkinter as tk\n",
    "# import numpy as np\n",
    "#\n",
    "# # Создаем холст\n",
    "# root = tk.Tk()\n",
    "# canvas = tk.Canvas(root, width=400, height=400)\n",
    "# canvas.pack()\n",
    "#\n",
    "# # Определяем начальные точки контроля\n",
    "# p0 = np.array([100, 100])\n",
    "# p1 = np.array([200, 200])\n",
    "# p2 = np.array([300, 100])\n",
    "#\n",
    "# # Определяем функцию, которая рисует кривую Безье с помощью заданных точек контроля\n",
    "# def draw_bezier(p0, p1, p2):\n",
    "#     t = np.linspace(0, 1, 100)\n",
    "#     points = (1-t)**2*p0 + 2*(1-t)*t*p1 + t**2*p2\n",
    "#     for i in range(len(points)-1):\n",
    "#         canvas.create_line(points[i], points[i+1], smooth=True)\n",
    "#\n",
    "# # Определяем функцию, которая изменяет положение точек контроля и перерисовывает кривую Безье\n",
    "# def animate():\n",
    "#     global p0, p1, p2\n",
    "#     canvas.delete(\"all\")\n",
    "#     # Изменяем положение точек контроля\n",
    "#     p0 += np.array([1, 0])\n",
    "#     p1 += np.array([0, 1])\n",
    "#     p2 += np.array([-1, 0])\n",
    "#     # Рисуем кривую Безье с новыми точками контроля\n",
    "#     draw_bezier(p0, p1, p2)\n",
    "#     # Запускаем анимацию повторно через 10 миллисекунд\n",
    "#     root.after(120, animate)\n",
    "#\n",
    "# # Запускаем анимацию\n",
    "# animate()\n",
    "#\n",
    "# # Запускаем главный цикл обработки событий\n",
    "# root.mainloop()\n"
   ],
   "metadata": {
    "collapsed": false,
    "pycharm": {
     "name": "#%%\n"
    }
   }
  },
  {
   "cell_type": "code",
   "execution_count": 6,
   "outputs": [],
   "source": [
    "import tkinter as tk\n",
    "\n",
    "class Point:\n",
    "    def __init__(self, canvas, x, y):\n",
    "        self.canvas = canvas\n",
    "        self.id = canvas.create_oval(x-5, y-5, x+5, y+5, fill=\"blue\")\n",
    "        self.x = x\n",
    "        self.y = y\n",
    "        self.canvas.bind(\"<B1-Motion>\", self.move)\n",
    "\n",
    "    def move(self, event):\n",
    "        x, y = event.x, event.y\n",
    "        # Ограничение перемещения точки в диапазоне [50, 250] по оси x\n",
    "        x = max(50, min(x, 250))\n",
    "        # Ограничение перемещения точки в диапазоне [50, 250] по оси y\n",
    "        y = max(50, min(y, 250))\n",
    "        self.canvas.coords(self.id, x-5, y-5, x+5, y+5)\n",
    "        self.x = x\n",
    "        self.y = y\n",
    "\n",
    "root = tk.Tk()\n",
    "canvas = tk.Canvas(root, width=300, height=300)\n",
    "canvas.pack()\n",
    "\n",
    "point = Point(canvas, 150, 150)\n",
    "\n",
    "root.mainloop()"
   ],
   "metadata": {
    "collapsed": false,
    "pycharm": {
     "name": "#%%\n"
    }
   }
  },
  {
   "cell_type": "code",
   "execution_count": 6,
   "outputs": [],
   "source": [],
   "metadata": {
    "collapsed": false,
    "pycharm": {
     "name": "#%%\n"
    }
   }
  }
 ],
 "metadata": {
  "kernelspec": {
   "display_name": "Python 3",
   "language": "python",
   "name": "python3"
  },
  "language_info": {
   "codemirror_mode": {
    "name": "ipython",
    "version": 2
   },
   "file_extension": ".py",
   "mimetype": "text/x-python",
   "name": "python",
   "nbconvert_exporter": "python",
   "pygments_lexer": "ipython2",
   "version": "2.7.6"
  }
 },
 "nbformat": 4,
 "nbformat_minor": 0
}