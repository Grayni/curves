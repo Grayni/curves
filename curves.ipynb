{
 "cells": [
  {
   "cell_type": "code",
   "execution_count": 55,
   "metadata": {
    "collapsed": true,
    "pycharm": {
     "name": "#%%\n"
    }
   },
   "outputs": [],
   "source": [
    "from tkinter import Canvas, Label, Tk"
   ]
  },
  {
   "cell_type": "code",
   "execution_count": 56,
   "outputs": [
    {
     "name": "stdout",
     "output_type": "stream",
     "text": [
      "The autoreload extension is already loaded. To reload it, use:\n",
      "  %reload_ext autoreload\n"
     ]
    }
   ],
   "source": [
    "# reload module\n",
    "%load_ext autoreload\n",
    "%autoreload 2\n",
    "\n",
    "from calculations import Calculations\n",
    "from point import Point\n",
    "from cursor_manager import CursorManager\n",
    "from mixins.mix_event_bindings import mix_event_bindings\n",
    "from history import History"
   ],
   "metadata": {
    "collapsed": false,
    "pycharm": {
     "name": "#%%\n"
    }
   }
  },
  {
   "cell_type": "code",
   "execution_count": 57,
   "outputs": [],
   "source": [
    "class CurveGrid(Canvas, Calculations, Point):\n",
    "\n",
    "    def __init__(self, master=None, **kwargs):\n",
    "        super().__init__(master, **kwargs)\n",
    "        Point.__init__(self)\n",
    "\n",
    "        # classes\n",
    "        self.cursor = CursorManager(self)\n",
    "        ###self.buffer = History()\n",
    "\n",
    "        # events\n",
    "        self.root = master\n",
    "        mix_event_bindings(self, self.root)\n",
    "\n",
    "        # create Label coords\n",
    "        self.label = Label( root, text=f\"x: 0\\ny: 0\", anchor=\"w\", justify=\"left\", bg=\"#333333\", fg=\"#aaaaaa\", font=(\"Arial\", 14))\n",
    "        self.label.place(x=50, y=580)\n",
    "\n",
    "        # init grid & line\n",
    "        self.draw_grid()\n",
    "        self.draw_line()\n",
    "\n",
    "        ###self.buffer.save_step(self.points)\n",
    "        ###self.buffer.show_history()\n",
    "\n",
    "    def draw_grid(self):\n",
    "        # vertical lines\n",
    "        for coord in range(50, 561, 102):\n",
    "            self.create_line(coord, 50, coord, 561, fill=\"#444444\")\n",
    "            self.create_line(50, coord, 561, coord, fill=\"#444444\")\n",
    "\n",
    "\n",
    "    def draw_line(self):\n",
    "        self.delete(\"curve\", \"point\")\n",
    "\n",
    "        # curve coords\n",
    "        self.curve_points = self.curve_coords(self.points[1:-1])\n",
    "\n",
    "        # curve\n",
    "        self.create_line(\n",
    "            # left fix point, curve points, right fix point\n",
    "            self.points[0], *self.curve_points, self.points[-1],\n",
    "            fill=\"#ffffbb\",\n",
    "            width=1,\n",
    "            tags=\"curve\"\n",
    "        )\n",
    "\n",
    "        # points\n",
    "        for i, (x, y) in enumerate(self.points, start=0):\n",
    "            if i not in (0, len(self.points)-1):\n",
    "                self.draw_point(x, y)\n",
    "\n",
    "    def on_enter(self, event):\n",
    "        if self.allow_add_point(event):\n",
    "            if self.allow_influence_point(event):\n",
    "                self.cursor.hand_cursor(event)\n",
    "            else:\n",
    "                self.cursor.cross_cursor()\n",
    "        else:\n",
    "            if self.allow_influence_point(event):\n",
    "                if not event.state & 0x4:\n",
    "                    self.cursor.hand_cursor()\n",
    "\n",
    "            else:\n",
    "                self.cursor.arrow_cursor()\n",
    "\n",
    "    def left_click(self, event):\n",
    "        self.x, self.y = event.x, event.y\n",
    "\n",
    "        # ctrl + LMB\n",
    "        if event.state & 0x4:\n",
    "            if self.allow_influence_point(event):\n",
    "                self.remove_point()\n",
    "                self.draw_line()\n",
    "        else:\n",
    "            # add a point to the curve & redraw the curve\n",
    "            if self.allow_add_point(event):\n",
    "                self.add_point()\n",
    "                self.draw_line()\n",
    "\n",
    "            # choose the nearest point\n",
    "            self.choose_point(event)\n",
    "\n",
    "    # drag point\n",
    "    def on_drag(self, event):\n",
    "        self.configure(cursor=self.cursor.drag_path)\n",
    "\n",
    "        # restricted movement coordinates\n",
    "        self.x = max(self.start_x, min(event.x, self.end_x))\n",
    "        self.y = max(self.end_y, min(event.y, self.start_y))\n",
    "\n",
    "        # selected point\n",
    "        self.points[self.selected_index] = (self.x, self.y)\n",
    "\n",
    "        # coord: x -> next point, previous point\n",
    "        prev_x = self.points[self.selected_index - 1][0]\n",
    "        next_x = self.points[self.selected_index + 1][0]\n",
    "\n",
    "        # limit min distance between points\n",
    "        if self.selected_index != 1 and self.x - prev_x < self.lim['x']:\n",
    "            self.limited_point(prev_x + self.lim['x'])\n",
    "        elif self.selected_index != len(self.points)-2 and next_x - self.x < self.lim['x']:\n",
    "            self.limited_point(next_x - self.lim['x'])\n",
    "\n",
    "        self.label.config(text=f\"x: {round((self.x - 50) / 2)}\\ny: {round((560 - self.y) / 2)}\")\n",
    "\n",
    "        # boundary invisible points\n",
    "        if self.selected_index == 1:\n",
    "            self.points[0] = (self.start_x, self.y)\n",
    "        elif self.selected_index == len(self.points) - 2:\n",
    "            self.points[-1] = (self.end_x, self.y)\n",
    "\n",
    "        self.draw_line()\n",
    "\n",
    "    def on_release(self, event):\n",
    "        self.selected_index = None\n",
    "        self.on_enter(event)\n"
   ],
   "metadata": {
    "collapsed": false,
    "pycharm": {
     "name": "#%%\n"
    }
   }
  },
  {
   "cell_type": "code",
   "execution_count": 58,
   "outputs": [],
   "source": [
    "root = Tk()\n",
    "root.focus_force()\n",
    "\n",
    "canvas = CurveGrid(root, width=600, height=650, bg=\"#333333\")\n",
    "canvas.pack(expand=True, fill=\"both\")\n",
    "canvas.configure(bg=\"#333333\")\n",
    "\n",
    "root.title(\"сurves\")\n",
    "root.mainloop()"
   ],
   "metadata": {
    "collapsed": false,
    "pycharm": {
     "name": "#%%\n"
    }
   }
  },
  {
   "cell_type": "code",
   "execution_count": 59,
   "outputs": [],
   "source": [
    "# points = [(50, 560), (150, 200), (250, 100), (560, 50)]"
   ],
   "metadata": {
    "collapsed": false,
    "pycharm": {
     "name": "#%%\n"
    }
   }
  },
  {
   "cell_type": "code",
   "execution_count": 59,
   "outputs": [],
   "source": [
    "\n",
    "\n",
    "\n",
    "\n"
   ],
   "metadata": {
    "collapsed": false,
    "pycharm": {
     "name": "#%%\n"
    }
   }
  },
  {
   "cell_type": "code",
   "execution_count": 59,
   "outputs": [],
   "source": [],
   "metadata": {
    "collapsed": false,
    "pycharm": {
     "name": "#%%\n"
    }
   }
  }
 ],
 "metadata": {
  "kernelspec": {
   "display_name": "Python 3",
   "language": "python",
   "name": "python3"
  },
  "language_info": {
   "codemirror_mode": {
    "name": "ipython",
    "version": 2
   },
   "file_extension": ".py",
   "mimetype": "text/x-python",
   "name": "python",
   "nbconvert_exporter": "python",
   "pygments_lexer": "ipython2",
   "version": "2.7.6"
  }
 },
 "nbformat": 4,
 "nbformat_minor": 0
}